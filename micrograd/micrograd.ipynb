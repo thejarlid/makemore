{
  "nbformat": 4,
  "nbformat_minor": 0,
  "metadata": {
    "colab": {
      "provenance": [],
      "authorship_tag": "ABX9TyPDvOqZPvBwj627USWNAwhg",
      "include_colab_link": true
    },
    "kernelspec": {
      "name": "python3",
      "display_name": "Python 3"
    },
    "language_info": {
      "name": "python"
    }
  },
  "cells": [
    {
      "cell_type": "markdown",
      "metadata": {
        "id": "view-in-github",
        "colab_type": "text"
      },
      "source": [
        "<a href=\"https://colab.research.google.com/github/thejarlid/makemore/blob/main/micrograd/micrograd.ipynb\" target=\"_parent\"><img src=\"https://colab.research.google.com/assets/colab-badge.svg\" alt=\"Open In Colab\"/></a>"
      ]
    },
    {
      "cell_type": "code",
      "execution_count": null,
      "metadata": {
        "colab": {
          "base_uri": "https://localhost:8080/",
          "height": 52
        },
        "id": "7nutKBpCEppd",
        "outputId": "1ee1cf8f-a870-42b2-8a33-dcb52e2cb9a5"
      },
      "outputs": [
        {
          "output_type": "execute_result",
          "data": {
            "text/plain": [
              "'\\nMicrograd is an autograd engine that implements backprop. Which allows you to\\nefficiently calculate the gradients of a neural network with a PyTorch-like\\nAPI. This DAG only operates on scalars rather than on tensors. \\n'"
            ],
            "application/vnd.google.colaboratory.intrinsic+json": {
              "type": "string"
            }
          },
          "metadata": {},
          "execution_count": 68
        }
      ],
      "source": [
        "\"\"\"\n",
        "Micrograd is an autograd engine that implements backprop. Which allows you to\n",
        "efficiently calculate the gradients of a neural network with a PyTorch-like\n",
        "API. This DAG only operates on scalars rather than on tensors.\n",
        "\"\"\""
      ]
    },
    {
      "cell_type": "code",
      "source": [
        "# Below is a brief review of Derivatives"
      ],
      "metadata": {
        "id": "J6HJdX-m9c6O"
      },
      "execution_count": null,
      "outputs": []
    },
    {
      "cell_type": "code",
      "source": [
        "import math\n",
        "import numpy as np\n",
        "import matplotlib.pyplot as plt"
      ],
      "metadata": {
        "id": "Od8IcQFnHcjU"
      },
      "execution_count": null,
      "outputs": []
    },
    {
      "cell_type": "code",
      "source": [
        "def f(x):\n",
        "  return 3 * x ** 2 - 4 * x + 5"
      ],
      "metadata": {
        "id": "sgmMfHn5HhkV"
      },
      "execution_count": null,
      "outputs": []
    },
    {
      "cell_type": "code",
      "source": [
        "f(3.0)"
      ],
      "metadata": {
        "colab": {
          "base_uri": "https://localhost:8080/"
        },
        "id": "y6Rbbd_x3f_N",
        "outputId": "7f8d651e-31e1-4ad3-e45e-60bbaab0013c"
      },
      "execution_count": null,
      "outputs": [
        {
          "output_type": "execute_result",
          "data": {
            "text/plain": [
              "20.0"
            ]
          },
          "metadata": {},
          "execution_count": 72
        }
      ]
    },
    {
      "cell_type": "code",
      "source": [
        "xs = np.arange(-5, 5, 0.25)\n",
        "ys = f(xs)\n",
        "ys\n",
        "plt.plot(xs, ys)"
      ],
      "metadata": {
        "colab": {
          "base_uri": "https://localhost:8080/",
          "height": 447
        },
        "id": "77NCOnwt3j0f",
        "outputId": "e2fdee1d-dc30-48d5-943a-74663a7c0f44"
      },
      "execution_count": null,
      "outputs": [
        {
          "output_type": "execute_result",
          "data": {
            "text/plain": [
              "[<matplotlib.lines.Line2D at 0x7b0390f35d50>]"
            ]
          },
          "metadata": {},
          "execution_count": 73
        },
        {
          "output_type": "display_data",
          "data": {
            "text/plain": [
              "<Figure size 640x480 with 1 Axes>"
            ],
            "image/png": "[encoded data removed]"
          },
          "metadata": {}
        }
      ]
    },
    {
      "cell_type": "code",
      "source": [
        "h = 0.00000000000001\n",
        "x = -3.0\n",
        "m = (f(x + h) - f(x))/h\n",
        "print(m)\n",
        "\n",
        "x = 3.0\n",
        "m = (f(x + h) - f(x))/h\n",
        "print(m)\n",
        "\n",
        "x = 2/3\n",
        "m = (f(x + h) - f(x))/h\n",
        "print(m)"
      ],
      "metadata": {
        "colab": {
          "base_uri": "https://localhost:8080/"
        },
        "id": "wqS5inh691_n",
        "outputId": "a97ab5a6-c5f0-4344-f9c4-18c70a0af3f1"
      },
      "execution_count": null,
      "outputs": [
        {
          "output_type": "stream",
          "name": "stdout",
          "text": [
            "-22.026824808563106\n",
            "14.210854715202004\n",
            "0.0\n"
          ]
        }
      ]
    },
    {
      "cell_type": "code",
      "source": [
        "a = 2.0\n",
        "b = -3.0\n",
        "c = 10.0\n",
        "d = a*b + c\n",
        "print(d)"
      ],
      "metadata": {
        "colab": {
          "base_uri": "https://localhost:8080/"
        },
        "id": "_ZyW2Y_h_HTS",
        "outputId": "22d3bdf2-1cb9-41c2-c0e0-e31a010006dd"
      },
      "execution_count": null,
      "outputs": [
        {
          "output_type": "stream",
          "name": "stdout",
          "text": [
            "4.0\n"
          ]
        }
      ]
    },
    {
      "cell_type": "code",
      "source": [
        "h = 0.0001\n",
        "\n",
        "# inputs\n",
        "a = 2.0\n",
        "b = -3.0\n",
        "c = 10.0\n",
        "\n",
        "d1 = a*b + c\n",
        "b += h\n",
        "d2 = a*b + c\n",
        "\n",
        "print('d1', d1)\n",
        "print('d2', d2)\n",
        "print('slope', (d2-d1)/h)"
      ],
      "metadata": {
        "colab": {
          "base_uri": "https://localhost:8080/"
        },
        "id": "KFa8Z8SH_TMd",
        "outputId": "e328f0c4-5755-4af0-e344-495457c5e17c"
      },
      "execution_count": null,
      "outputs": [
        {
          "output_type": "stream",
          "name": "stdout",
          "text": [
            "d1 4.0\n",
            "d2 4.0002\n",
            "slope 2.0000000000042206\n"
          ]
        }
      ]
    },
    {
      "cell_type": "code",
      "source": [
        "class Value:\n",
        "\n",
        "  def __init__(self, data, _children=(), _op='', label=''):\n",
        "    self.data = data\n",
        "    self.grad = 0.0\n",
        "    self._backward = lambda: None\n",
        "    # internal variables used for autograd graph construction\n",
        "    self._prev = set(_children)\n",
        "    self._op = _op\n",
        "    self.label = label\n",
        "\n",
        "  def __repr__(self):\n",
        "    return f\"Value(data={self.data})\"\n",
        "\n",
        "  def __add__(self, other):\n",
        "      other = other if isinstance(other, Value) else Value(other)\n",
        "      out = Value(self.data + other.data, (self, other), '+')\n",
        "\n",
        "      def _backward():\n",
        "          self.grad += out.grad\n",
        "          other.grad += out.grad\n",
        "      out._backward = _backward\n",
        "\n",
        "      return out\n",
        "\n",
        "  def __mul__(self, other):\n",
        "      other = other if isinstance(other, Value) else Value(other)\n",
        "      out = Value(self.data * other.data, (self, other), '*')\n",
        "\n",
        "      def _backward():\n",
        "          self.grad += other.data * out.grad\n",
        "          other.grad += self.data * out.grad\n",
        "      out._backward = _backward\n",
        "\n",
        "      return out\n",
        "\n",
        "  def __pow__(self, other):\n",
        "      assert isinstance(other, (int, float)), \"only supporting int/float powers for now\"\n",
        "      out = Value(self.data**other, (self,), f'**{other}')\n",
        "\n",
        "      def _backward():\n",
        "          self.grad += (other * self.data**(other-1)) * out.grad\n",
        "      out._backward = _backward\n",
        "\n",
        "      return out\n",
        "\n",
        "  def __neg__(self): # -self\n",
        "      return self * -1\n",
        "\n",
        "  def __radd__(self, other): # other + self\n",
        "      return self + other\n",
        "\n",
        "  def __sub__(self, other): # self - other\n",
        "      return self + (-other)\n",
        "\n",
        "  def __rsub__(self, other): # other - self\n",
        "      return other + (-self)\n",
        "\n",
        "  def __rmul__(self, other): # other * self\n",
        "      return self * other\n",
        "\n",
        "  def __truediv__(self, other): # self / other\n",
        "      return self * other**-1\n",
        "\n",
        "  def __rtruediv__(self, other): # other / self\n",
        "      return other * self**-1\n",
        "\n",
        "  def tanh(self):\n",
        "    n = self.data\n",
        "    t = (math.exp(2*n) - 1)/(math.exp(2*n) + 1)\n",
        "    out = Value(t, (self,), 'tanh')\n",
        "\n",
        "    def _backward():\n",
        "      self.grad += (1 - t**2) * out.grad\n",
        "    out._backward = _backward\n",
        "\n",
        "    return out\n",
        "\n",
        "  def exp(self):\n",
        "    x = self.data\n",
        "    out = Value(math.exp(x), (self,), 'exp')\n",
        "\n",
        "    def _backward():\n",
        "      self.grad += out.data * out.grad\n",
        "    out._backward = _backward\n",
        "\n",
        "    return out\n",
        "\n",
        "  def backward(self):\n",
        "\n",
        "      # topological order all of the children in the graph\n",
        "      topo = []\n",
        "      visited = set()\n",
        "      def build_topo(v):\n",
        "          if v not in visited:\n",
        "              visited.add(v)\n",
        "              for child in v._prev:\n",
        "                  build_topo(child)\n",
        "              topo.append(v)\n",
        "      build_topo(self)\n",
        "\n",
        "      # go one variable at a time and apply the chain rule to get its gradient\n",
        "      self.grad = 1\n",
        "      for v in reversed(topo):\n",
        "          v._backward()\n"
      ],
      "metadata": {
        "id": "6N8aUAY_AcAG"
      },
      "execution_count": null,
      "outputs": []
    },
    {
      "cell_type": "code",
      "source": [
        "from graphviz import Digraph\n",
        "\n",
        "def trace(root):\n",
        "  # builds a set of all nodes and edges in a graph\n",
        "  nodes, edges = set(), set()\n",
        "\n",
        "  def build(v):\n",
        "    if v not in nodes:\n",
        "      nodes.add(v)\n",
        "      for child in v._prev:\n",
        "        edges.add((child, v))\n",
        "        build(child)\n",
        "  build(root)\n",
        "  return nodes, edges\n",
        "\n",
        "def draw_dot(root):\n",
        "  dot = Digraph(format='svg', graph_attr={'rankdir': 'LR'}) # LR = left to right\n",
        "  nodes, edges = trace(root)\n",
        "\n",
        "  for n in nodes:\n",
        "    uid = str(id(n))\n",
        "\n",
        "    # for any value in the graph, create a rectangular ('record') node for it\n",
        "    dot.node(name = uid, label = \"{ %s | data %.4f | grad %.4f }\" % (n.label, n.data, n.grad), shape='record')\n",
        "\n",
        "    if n._op:\n",
        "      # if this value is a result of some operation create an op node for it\n",
        "      dot.node(name = uid + n._op, label = n._op)\n",
        "      # and connect this node to it\n",
        "      dot.edge(uid + n._op, uid)\n",
        "  for n1, n2 in edges:\n",
        "    # connect n1 to the op node of n2\n",
        "    dot.edge(str(id(n1)), str(id(n2)) + n2._op)\n",
        "  return dot"
      ],
      "metadata": {
        "id": "wC-mpN2IBpAR"
      },
      "execution_count": null,
      "outputs": []
    },
    {
      "cell_type": "code",
      "source": [
        "def lol():\n",
        "\n",
        "  h = 0.0001\n",
        "\n",
        "  a = Value(2.0, label='a')\n",
        "  b = Value(-3.0, label='b')\n",
        "  c = Value(10.0, label='c')\n",
        "  e = a*b; e.label = 'e'\n",
        "  d = e + c; d.label = 'd'\n",
        "  f = Value(-2.0, label='f')\n",
        "  L = d * f; L.label = 'L'\n",
        "  L1 = L.data\n",
        "\n",
        "  a = Value(2.0, label='a')\n",
        "  b = Value(-3.0, label='b')\n",
        "  c = Value(10.0, label='c')\n",
        "  e = a*b; e.label = 'e'\n",
        "  d = e + c; d.label = 'd'\n",
        "  f = Value(-2.0, label='f')\n",
        "  L = d * f; L.label = 'L'\n",
        "  L2 = L.data\n",
        "\n",
        "  print((L2-L1)/h)\n",
        "lol()"
      ],
      "metadata": {
        "colab": {
          "base_uri": "https://localhost:8080/"
        },
        "id": "H1a_RT-SFRov",
        "outputId": "cb345ddc-9bd0-4850-b7f0-a8fdc81cfd36"
      },
      "execution_count": null,
      "outputs": [
        {
          "output_type": "stream",
          "name": "stdout",
          "text": [
            "0.0\n"
          ]
        }
      ]
    },
    {
      "cell_type": "code",
      "source": [
        "plt.plot(np.arange(-5, 5, 0.2), np.tanh(np.arange(-5, 5, 0.2))); plt.grid()"
      ],
      "metadata": {
        "colab": {
          "base_uri": "https://localhost:8080/",
          "height": 430
        },
        "id": "qamSFwRJxhHO",
        "outputId": "a484da41-5498-4bb8-e288-4a565cbdab7a"
      },
      "execution_count": null,
      "outputs": [
        {
          "output_type": "display_data",
          "data": {
            "text/plain": [
              "<Figure size 640x480 with 1 Axes>"
            ],
            "image/png": "[encoded data removed]"
          },
          "metadata": {}
        }
      ]
    },
    {
      "cell_type": "code",
      "source": [
        "# inputs x1, x2\n",
        "x1 = Value(2.0, label='x1')\n",
        "x2 = Value(0.0, label='x2')\n",
        "\n",
        "# weights\n",
        "w1 = Value(-3.0, label='w1')\n",
        "w2 = Value(1.0, label='w2')\n",
        "\n",
        "# bias of the neuron\n",
        "b = Value(6.8813735870195432, label='b')\n",
        "\n",
        "x1w1 = x1*w1; x1w1.label = 'x1*w1'\n",
        "x2w2 = x2*w2; x2w2.label = 'x2*w2'\n",
        "x1w1x2w2 = x1w1 + x2w2; x1w1x2w2.label = 'x1*w1 + x2*w2'\n",
        "n = x1w1x2w2 + b; n.label = 'n'\n",
        "\n",
        "# ---\n",
        "o = n.tanh()\n",
        "# ---\n",
        "o.label = 'o'\n",
        "\n",
        "o.backward()\n",
        "draw_dot(o)"
      ],
      "metadata": {
        "colab": {
          "base_uri": "https://localhost:8080/",
          "height": 321
        },
        "id": "48eyhTTKxzZz",
        "outputId": "f3ae12c6-c791-4063-ab71-4ad9d6b6a0be"
      },
      "execution_count": null,
      "outputs": [
        {
          "output_type": "execute_result",
          "data": {
            "image/svg+xml": "<?xml version=\"1.0\" encoding=\"UTF-8\" standalone=\"no\"?>\n<!DOCTYPE svg PUBLIC \"-//W3C//DTD SVG 1.1//EN\"\n \"http://www.w3.org/Graphics/SVG/1.1/DTD/svg11.dtd\">\n<!-- Generated by graphviz version 2.43.0 (0)\n -->\n<!-- Title: %3 Pages: 1 -->\n<svg width=\"1575pt\" height=\"210pt\"\n viewBox=\"0.00 0.00 1575.00 210.00\" xmlns=\"http://www.w3.org/2000/svg\" xmlns:xlink=\"http://www.w3.org/1999/xlink\">\n<g id=\"graph0\" class=\"graph\" transform=\"scale(1 1) rotate(0) translate(4 206)\">\n<title>%3</title>\n<polygon fill=\"white\" stroke=\"transparent\" points=\"-4,4 -4,-206 1571,-206 1571,4 -4,4\"/>\n<!-- 135255287579664 -->\n<g id=\"node1\" class=\"node\">\n<title>135255287579664</title>\n<polygon fill=\"none\" stroke=\"black\" points=\"328.5,-55.5 328.5,-91.5 543.5,-91.5 543.5,-55.5 328.5,-55.5\"/>\n<text text-anchor=\"middle\" x=\"355\" y=\"-69.8\" font-family=\"Times,serif\" font-size=\"14.00\">x2*w2</text>\n<polyline fill=\"none\" stroke=\"black\" points=\"381.5,-55.5 381.5,-91.5 \"/>\n<text text-anchor=\"middle\" x=\"421.5\" y=\"-69.8\" font-family=\"Times,serif\" font-size=\"14.00\">data 0.0000</text>\n<polyline fill=\"none\" stroke=\"black\" points=\"461.5,-55.5 461.5,-91.5 \"/>\n<text text-anchor=\"middle\" x=\"502.5\" y=\"-69.8\" font-family=\"Times,serif\" font-size=\"14.00\">grad 0.5000</text>\n</g>\n<!-- 135255251324688+ -->\n<g id=\"node8\" class=\"node\">\n<title>135255251324688+</title>\n<ellipse fill=\"none\" stroke=\"black\" cx=\"609\" cy=\"-100.5\" rx=\"27\" ry=\"18\"/>\n<text text-anchor=\"middle\" x=\"609\" y=\"-96.8\" font-family=\"Times,serif\" font-size=\"14.00\">+</text>\n</g>\n<!-- 135255287579664&#45;&gt;135255251324688+ -->\n<g id=\"edge9\" class=\"edge\">\n<title>135255287579664&#45;&gt;135255251324688+</title>\n<path fill=\"none\" stroke=\"black\" d=\"M543.84,-90.37C554.01,-91.98 563.76,-93.51 572.44,-94.89\"/>\n<polygon fill=\"black\" stroke=\"black\" points=\"572.05,-98.37 582.47,-96.47 573.14,-91.45 572.05,-98.37\"/>\n</g>\n<!-- 135255287579664* -->\n<g id=\"node2\" class=\"node\">\n<title>135255287579664*</title>\n<ellipse fill=\"none\" stroke=\"black\" cx=\"263\" cy=\"-73.5\" rx=\"27\" ry=\"18\"/>\n<text text-anchor=\"middle\" x=\"263\" y=\"-69.8\" font-family=\"Times,serif\" font-size=\"14.00\">*</text>\n</g>\n<!-- 135255287579664*&#45;&gt;135255287579664 -->\n<g id=\"edge1\" class=\"edge\">\n<title>135255287579664*&#45;&gt;135255287579664</title>\n<path fill=\"none\" stroke=\"black\" d=\"M290.34,-73.5C298.51,-73.5 308.08,-73.5 318.36,-73.5\"/>\n<polygon fill=\"black\" stroke=\"black\" points=\"318.39,-77 328.39,-73.5 318.39,-70 318.39,-77\"/>\n</g>\n<!-- 135255287586384 -->\n<g id=\"node3\" class=\"node\">\n<title>135255287586384</title>\n<polygon fill=\"none\" stroke=\"black\" points=\"1071,-109.5 1071,-145.5 1256,-145.5 1256,-109.5 1071,-109.5\"/>\n<text text-anchor=\"middle\" x=\"1082.5\" y=\"-123.8\" font-family=\"Times,serif\" font-size=\"14.00\">n</text>\n<polyline fill=\"none\" stroke=\"black\" points=\"1094,-109.5 1094,-145.5 \"/>\n<text text-anchor=\"middle\" x=\"1134\" y=\"-123.8\" font-family=\"Times,serif\" font-size=\"14.00\">data 0.8814</text>\n<polyline fill=\"none\" stroke=\"black\" points=\"1174,-109.5 1174,-145.5 \"/>\n<text text-anchor=\"middle\" x=\"1215\" y=\"-123.8\" font-family=\"Times,serif\" font-size=\"14.00\">grad 0.5000</text>\n</g>\n<!-- 135255251420112tanh -->\n<g id=\"node15\" class=\"node\">\n<title>135255251420112tanh</title>\n<ellipse fill=\"none\" stroke=\"black\" cx=\"1319\" cy=\"-127.5\" rx=\"27\" ry=\"18\"/>\n<text text-anchor=\"middle\" x=\"1319\" y=\"-123.8\" font-family=\"Times,serif\" font-size=\"14.00\">tanh</text>\n</g>\n<!-- 135255287586384&#45;&gt;135255251420112tanh -->\n<g id=\"edge7\" class=\"edge\">\n<title>135255287586384&#45;&gt;135255251420112tanh</title>\n<path fill=\"none\" stroke=\"black\" d=\"M1256.01,-127.5C1265.01,-127.5 1273.74,-127.5 1281.66,-127.5\"/>\n<polygon fill=\"black\" stroke=\"black\" points=\"1281.91,-131 1291.91,-127.5 1281.91,-124 1281.91,-131\"/>\n</g>\n<!-- 135255287586384+ -->\n<g id=\"node4\" class=\"node\">\n<title>135255287586384+</title>\n<ellipse fill=\"none\" stroke=\"black\" cx=\"1008\" cy=\"-127.5\" rx=\"27\" ry=\"18\"/>\n<text text-anchor=\"middle\" x=\"1008\" y=\"-123.8\" font-family=\"Times,serif\" font-size=\"14.00\">+</text>\n</g>\n<!-- 135255287586384+&#45;&gt;135255287586384 -->\n<g id=\"edge2\" class=\"edge\">\n<title>135255287586384+&#45;&gt;135255287586384</title>\n<path fill=\"none\" stroke=\"black\" d=\"M1035.04,-127.5C1042.58,-127.5 1051.3,-127.5 1060.57,-127.5\"/>\n<polygon fill=\"black\" stroke=\"black\" points=\"1060.81,-131 1070.81,-127.5 1060.81,-124 1060.81,-131\"/>\n</g>\n<!-- 135255287583824 -->\n<g id=\"node5\" class=\"node\">\n<title>135255287583824</title>\n<polygon fill=\"none\" stroke=\"black\" points=\"2,-165.5 2,-201.5 198,-201.5 198,-165.5 2,-165.5\"/>\n<text text-anchor=\"middle\" x=\"17\" y=\"-179.8\" font-family=\"Times,serif\" font-size=\"14.00\">x1</text>\n<polyline fill=\"none\" stroke=\"black\" points=\"32,-165.5 32,-201.5 \"/>\n<text text-anchor=\"middle\" x=\"72\" y=\"-179.8\" font-family=\"Times,serif\" font-size=\"14.00\">data 2.0000</text>\n<polyline fill=\"none\" stroke=\"black\" points=\"112,-165.5 112,-201.5 \"/>\n<text text-anchor=\"middle\" x=\"155\" y=\"-179.8\" font-family=\"Times,serif\" font-size=\"14.00\">grad &#45;1.5000</text>\n</g>\n<!-- 135255287581136* -->\n<g id=\"node12\" class=\"node\">\n<title>135255287581136*</title>\n<ellipse fill=\"none\" stroke=\"black\" cx=\"263\" cy=\"-128.5\" rx=\"27\" ry=\"18\"/>\n<text text-anchor=\"middle\" x=\"263\" y=\"-124.8\" font-family=\"Times,serif\" font-size=\"14.00\">*</text>\n</g>\n<!-- 135255287583824&#45;&gt;135255287581136* -->\n<g id=\"edge11\" class=\"edge\">\n<title>135255287583824&#45;&gt;135255287581136*</title>\n<path fill=\"none\" stroke=\"black\" d=\"M172.53,-165.44C181.84,-162.67 191.2,-159.67 200,-156.5 210.53,-152.71 221.75,-147.9 231.72,-143.33\"/>\n<polygon fill=\"black\" stroke=\"black\" points=\"233.25,-146.48 240.82,-139.07 230.28,-140.14 233.25,-146.48\"/>\n</g>\n<!-- 135255287591120 -->\n<g id=\"node6\" class=\"node\">\n<title>135255287591120</title>\n<polygon fill=\"none\" stroke=\"black\" points=\"0,-110.5 0,-146.5 200,-146.5 200,-110.5 0,-110.5\"/>\n<text text-anchor=\"middle\" x=\"16.5\" y=\"-124.8\" font-family=\"Times,serif\" font-size=\"14.00\">w1</text>\n<polyline fill=\"none\" stroke=\"black\" points=\"33,-110.5 33,-146.5 \"/>\n<text text-anchor=\"middle\" x=\"75.5\" y=\"-124.8\" font-family=\"Times,serif\" font-size=\"14.00\">data &#45;3.0000</text>\n<polyline fill=\"none\" stroke=\"black\" points=\"118,-110.5 118,-146.5 \"/>\n<text text-anchor=\"middle\" x=\"159\" y=\"-124.8\" font-family=\"Times,serif\" font-size=\"14.00\">grad 1.0000</text>\n</g>\n<!-- 135255287591120&#45;&gt;135255287581136* -->\n<g id=\"edge8\" class=\"edge\">\n<title>135255287591120&#45;&gt;135255287581136*</title>\n<path fill=\"none\" stroke=\"black\" d=\"M200.21,-128.5C209.2,-128.5 217.86,-128.5 225.7,-128.5\"/>\n<polygon fill=\"black\" stroke=\"black\" points=\"225.85,-132 235.85,-128.5 225.85,-125 225.85,-132\"/>\n</g>\n<!-- 135255251324688 -->\n<g id=\"node7\" class=\"node\">\n<title>135255251324688</title>\n<polygon fill=\"none\" stroke=\"black\" points=\"672,-82.5 672,-118.5 945,-118.5 945,-82.5 672,-82.5\"/>\n<text text-anchor=\"middle\" x=\"725\" y=\"-96.8\" font-family=\"Times,serif\" font-size=\"14.00\">x1*w1 + x2*w2</text>\n<polyline fill=\"none\" stroke=\"black\" points=\"778,-82.5 778,-118.5 \"/>\n<text text-anchor=\"middle\" x=\"820.5\" y=\"-96.8\" font-family=\"Times,serif\" font-size=\"14.00\">data &#45;6.0000</text>\n<polyline fill=\"none\" stroke=\"black\" points=\"863,-82.5 863,-118.5 \"/>\n<text text-anchor=\"middle\" x=\"904\" y=\"-96.8\" font-family=\"Times,serif\" font-size=\"14.00\">grad 0.5000</text>\n</g>\n<!-- 135255251324688&#45;&gt;135255287586384+ -->\n<g id=\"edge6\" class=\"edge\">\n<title>135255251324688&#45;&gt;135255287586384+</title>\n<path fill=\"none\" stroke=\"black\" d=\"M941.24,-118.51C952.12,-120 962.4,-121.4 971.45,-122.64\"/>\n<polygon fill=\"black\" stroke=\"black\" points=\"971.11,-126.13 981.49,-124.01 972.05,-119.19 971.11,-126.13\"/>\n</g>\n<!-- 135255251324688+&#45;&gt;135255251324688 -->\n<g id=\"edge3\" class=\"edge\">\n<title>135255251324688+&#45;&gt;135255251324688</title>\n<path fill=\"none\" stroke=\"black\" d=\"M636.23,-100.5C643.7,-100.5 652.41,-100.5 661.87,-100.5\"/>\n<polygon fill=\"black\" stroke=\"black\" points=\"661.98,-104 671.98,-100.5 661.98,-97 661.98,-104\"/>\n</g>\n<!-- 135255287587600 -->\n<g id=\"node9\" class=\"node\">\n<title>135255287587600</title>\n<polygon fill=\"none\" stroke=\"black\" points=\"2.5,-55.5 2.5,-91.5 197.5,-91.5 197.5,-55.5 2.5,-55.5\"/>\n<text text-anchor=\"middle\" x=\"19\" y=\"-69.8\" font-family=\"Times,serif\" font-size=\"14.00\">w2</text>\n<polyline fill=\"none\" stroke=\"black\" points=\"35.5,-55.5 35.5,-91.5 \"/>\n<text text-anchor=\"middle\" x=\"75.5\" y=\"-69.8\" font-family=\"Times,serif\" font-size=\"14.00\">data 1.0000</text>\n<polyline fill=\"none\" stroke=\"black\" points=\"115.5,-55.5 115.5,-91.5 \"/>\n<text text-anchor=\"middle\" x=\"156.5\" y=\"-69.8\" font-family=\"Times,serif\" font-size=\"14.00\">grad 0.0000</text>\n</g>\n<!-- 135255287587600&#45;&gt;135255287579664* -->\n<g id=\"edge13\" class=\"edge\">\n<title>135255287587600&#45;&gt;135255287579664*</title>\n<path fill=\"none\" stroke=\"black\" d=\"M197.91,-73.5C207.65,-73.5 217.05,-73.5 225.52,-73.5\"/>\n<polygon fill=\"black\" stroke=\"black\" points=\"225.7,-77 235.7,-73.5 225.7,-70 225.7,-77\"/>\n</g>\n<!-- 135255287594832 -->\n<g id=\"node10\" class=\"node\">\n<title>135255287594832</title>\n<polygon fill=\"none\" stroke=\"black\" points=\"716,-137.5 716,-173.5 901,-173.5 901,-137.5 716,-137.5\"/>\n<text text-anchor=\"middle\" x=\"727.5\" y=\"-151.8\" font-family=\"Times,serif\" font-size=\"14.00\">b</text>\n<polyline fill=\"none\" stroke=\"black\" points=\"739,-137.5 739,-173.5 \"/>\n<text text-anchor=\"middle\" x=\"779\" y=\"-151.8\" font-family=\"Times,serif\" font-size=\"14.00\">data 6.8814</text>\n<polyline fill=\"none\" stroke=\"black\" points=\"819,-137.5 819,-173.5 \"/>\n<text text-anchor=\"middle\" x=\"860\" y=\"-151.8\" font-family=\"Times,serif\" font-size=\"14.00\">grad 0.5000</text>\n</g>\n<!-- 135255287594832&#45;&gt;135255287586384+ -->\n<g id=\"edge14\" class=\"edge\">\n<title>135255287594832&#45;&gt;135255287586384+</title>\n<path fill=\"none\" stroke=\"black\" d=\"M901.02,-142.52C926,-138.98 951.59,-135.36 971.37,-132.55\"/>\n<polygon fill=\"black\" stroke=\"black\" points=\"972.03,-135.99 981.43,-131.12 971.04,-129.06 972.03,-135.99\"/>\n</g>\n<!-- 135255287581136 -->\n<g id=\"node11\" class=\"node\">\n<title>135255287581136</title>\n<polygon fill=\"none\" stroke=\"black\" points=\"326,-110.5 326,-146.5 546,-146.5 546,-110.5 326,-110.5\"/>\n<text text-anchor=\"middle\" x=\"352.5\" y=\"-124.8\" font-family=\"Times,serif\" font-size=\"14.00\">x1*w1</text>\n<polyline fill=\"none\" stroke=\"black\" points=\"379,-110.5 379,-146.5 \"/>\n<text text-anchor=\"middle\" x=\"421.5\" y=\"-124.8\" font-family=\"Times,serif\" font-size=\"14.00\">data &#45;6.0000</text>\n<polyline fill=\"none\" stroke=\"black\" points=\"464,-110.5 464,-146.5 \"/>\n<text text-anchor=\"middle\" x=\"505\" y=\"-124.8\" font-family=\"Times,serif\" font-size=\"14.00\">grad 0.5000</text>\n</g>\n<!-- 135255287581136&#45;&gt;135255251324688+ -->\n<g id=\"edge12\" class=\"edge\">\n<title>135255287581136&#45;&gt;135255251324688+</title>\n<path fill=\"none\" stroke=\"black\" d=\"M546.27,-110.61C555.64,-109.07 564.6,-107.61 572.65,-106.29\"/>\n<polygon fill=\"black\" stroke=\"black\" points=\"573.35,-109.72 582.65,-104.65 572.22,-102.81 573.35,-109.72\"/>\n</g>\n<!-- 135255287581136*&#45;&gt;135255287581136 -->\n<g id=\"edge4\" class=\"edge\">\n<title>135255287581136*&#45;&gt;135255287581136</title>\n<path fill=\"none\" stroke=\"black\" d=\"M290.34,-128.5C297.77,-128.5 306.37,-128.5 315.6,-128.5\"/>\n<polygon fill=\"black\" stroke=\"black\" points=\"315.84,-132 325.84,-128.5 315.84,-125 315.84,-132\"/>\n</g>\n<!-- 135255287592848 -->\n<g id=\"node13\" class=\"node\">\n<title>135255287592848</title>\n<polygon fill=\"none\" stroke=\"black\" points=\"4,-0.5 4,-36.5 196,-36.5 196,-0.5 4,-0.5\"/>\n<text text-anchor=\"middle\" x=\"19\" y=\"-14.8\" font-family=\"Times,serif\" font-size=\"14.00\">x2</text>\n<polyline fill=\"none\" stroke=\"black\" points=\"34,-0.5 34,-36.5 \"/>\n<text text-anchor=\"middle\" x=\"74\" y=\"-14.8\" font-family=\"Times,serif\" font-size=\"14.00\">data 0.0000</text>\n<polyline fill=\"none\" stroke=\"black\" points=\"114,-0.5 114,-36.5 \"/>\n<text text-anchor=\"middle\" x=\"155\" y=\"-14.8\" font-family=\"Times,serif\" font-size=\"14.00\">grad 0.5000</text>\n</g>\n<!-- 135255287592848&#45;&gt;135255287579664* -->\n<g id=\"edge10\" class=\"edge\">\n<title>135255287592848&#45;&gt;135255287579664*</title>\n<path fill=\"none\" stroke=\"black\" d=\"M169.28,-36.5C179.65,-39.61 190.16,-42.98 200,-46.5 210.28,-50.17 221.28,-54.74 231.11,-59.07\"/>\n<polygon fill=\"black\" stroke=\"black\" points=\"229.93,-62.37 240.48,-63.27 232.79,-55.99 229.93,-62.37\"/>\n</g>\n<!-- 135255251420112 -->\n<g id=\"node14\" class=\"node\">\n<title>135255251420112</title>\n<polygon fill=\"none\" stroke=\"black\" points=\"1382,-109.5 1382,-145.5 1567,-145.5 1567,-109.5 1382,-109.5\"/>\n<text text-anchor=\"middle\" x=\"1393.5\" y=\"-123.8\" font-family=\"Times,serif\" font-size=\"14.00\">o</text>\n<polyline fill=\"none\" stroke=\"black\" points=\"1405,-109.5 1405,-145.5 \"/>\n<text text-anchor=\"middle\" x=\"1445\" y=\"-123.8\" font-family=\"Times,serif\" font-size=\"14.00\">data 0.7071</text>\n<polyline fill=\"none\" stroke=\"black\" points=\"1485,-109.5 1485,-145.5 \"/>\n<text text-anchor=\"middle\" x=\"1526\" y=\"-123.8\" font-family=\"Times,serif\" font-size=\"14.00\">grad 1.0000</text>\n</g>\n<!-- 135255251420112tanh&#45;&gt;135255251420112 -->\n<g id=\"edge5\" class=\"edge\">\n<title>135255251420112tanh&#45;&gt;135255251420112</title>\n<path fill=\"none\" stroke=\"black\" d=\"M1346.04,-127.5C1353.58,-127.5 1362.3,-127.5 1371.57,-127.5\"/>\n<polygon fill=\"black\" stroke=\"black\" points=\"1371.81,-131 1381.81,-127.5 1371.81,-124 1371.81,-131\"/>\n</g>\n</g>\n</svg>\n",
            "text/plain": [
              "<graphviz.graphs.Digraph at 0x7b03935edc90>"
            ]
          },
          "metadata": {},
          "execution_count": 81
        }
      ]
    },
    {
      "cell_type": "code",
      "source": [
        "# inputs x1, x2\n",
        "x1 = Value(2.0, label='x1')\n",
        "x2 = Value(0.0, label='x2')\n",
        "\n",
        "# weights\n",
        "w1 = Value(-3.0, label='w1')\n",
        "w2 = Value(1.0, label='w2')\n",
        "\n",
        "# bias of the neuron\n",
        "b = Value(6.8813735870195432, label='b')\n",
        "\n",
        "x1w1 = x1*w1; x1w1.label = 'x1*w1'\n",
        "x2w2 = x2*w2; x2w2.label = 'x2*w2'\n",
        "x1w1x2w2 = x1w1 + x2w2; x1w1x2w2.label = 'x1*w1 + x2*w2'\n",
        "n = x1w1x2w2 + b; n.label = 'n'\n",
        "\n",
        "# ---\n",
        "e = (2*n).exp()\n",
        "o = (e - 1) / (e + 1)\n",
        "# ---\n",
        "\n",
        "o.label = 'o'\n",
        "draw_dot(o)"
      ],
      "metadata": {
        "colab": {
          "base_uri": "https://localhost:8080/",
          "height": 360
        },
        "id": "NL5o5Vpk-GnR",
        "outputId": "7ccdcd13-00e2-4d98-a2eb-c3f878f46960"
      },
      "execution_count": null,
      "outputs": [
        {
          "output_type": "execute_result",
          "data": {
            "image/svg+xml": "<?xml version=\"1.0\" encoding=\"UTF-8\" standalone=\"no\"?>\n<!DOCTYPE svg PUBLIC \"-//W3C//DTD SVG 1.1//EN\"\n \"http://www.w3.org/Graphics/SVG/1.1/DTD/svg11.dtd\">\n<!-- Generated by graphviz version 2.43.0 (0)\n -->\n<!-- Title: %3 Pages: 1 -->\n<svg width=\"2940pt\" height=\"239pt\"\n viewBox=\"0.00 0.00 2940.00 239.00\" xmlns=\"http://www.w3.org/2000/svg\" xmlns:xlink=\"http://www.w3.org/1999/xlink\">\n<g id=\"graph0\" class=\"graph\" transform=\"scale(1 1) rotate(0) translate(4 235)\">\n<title>%3</title>\n<polygon fill=\"white\" stroke=\"transparent\" points=\"-4,4 -4,-235 2936,-235 2936,4 -4,4\"/>\n<!-- 135255251165200 -->\n<g id=\"node1\" class=\"node\">\n<title>135255251165200</title>\n<polygon fill=\"none\" stroke=\"black\" points=\"1692.5,-55.5 1692.5,-91.5 1874.5,-91.5 1874.5,-55.5 1692.5,-55.5\"/>\n<text text-anchor=\"middle\" x=\"1702.5\" y=\"-69.8\" font-family=\"Times,serif\" font-size=\"14.00\"> </text>\n<polyline fill=\"none\" stroke=\"black\" points=\"1712.5,-55.5 1712.5,-91.5 \"/>\n<text text-anchor=\"middle\" x=\"1752.5\" y=\"-69.8\" font-family=\"Times,serif\" font-size=\"14.00\">data 5.8284</text>\n<polyline fill=\"none\" stroke=\"black\" points=\"1792.5,-55.5 1792.5,-91.5 \"/>\n<text text-anchor=\"middle\" x=\"1833.5\" y=\"-69.8\" font-family=\"Times,serif\" font-size=\"14.00\">grad 0.0000</text>\n</g>\n<!-- 135255251164368+ -->\n<g id=\"node18\" class=\"node\">\n<title>135255251164368+</title>\n<ellipse fill=\"none\" stroke=\"black\" cx=\"1940\" cy=\"-45.5\" rx=\"27\" ry=\"18\"/>\n<text text-anchor=\"middle\" x=\"1940\" y=\"-41.8\" font-family=\"Times,serif\" font-size=\"14.00\">+</text>\n</g>\n<!-- 135255251165200&#45;&gt;135255251164368+ -->\n<g id=\"edge14\" class=\"edge\">\n<title>135255251165200&#45;&gt;135255251164368+</title>\n<path fill=\"none\" stroke=\"black\" d=\"M1874.82,-57.13C1885.07,-55.27 1895.01,-53.47 1903.88,-51.87\"/>\n<polygon fill=\"black\" stroke=\"black\" points=\"1904.54,-55.3 1913.75,-50.08 1903.29,-48.42 1904.54,-55.3\"/>\n</g>\n<!-- 135255251161360+ -->\n<g id=\"node22\" class=\"node\">\n<title>135255251161360+</title>\n<ellipse fill=\"none\" stroke=\"black\" cx=\"1940\" cy=\"-100.5\" rx=\"27\" ry=\"18\"/>\n<text text-anchor=\"middle\" x=\"1940\" y=\"-96.8\" font-family=\"Times,serif\" font-size=\"14.00\">+</text>\n</g>\n<!-- 135255251165200&#45;&gt;135255251161360+ -->\n<g id=\"edge23\" class=\"edge\">\n<title>135255251165200&#45;&gt;135255251161360+</title>\n<path fill=\"none\" stroke=\"black\" d=\"M1874.82,-89.28C1885.07,-91.08 1895.01,-92.81 1903.88,-94.36\"/>\n<polygon fill=\"black\" stroke=\"black\" points=\"1903.3,-97.81 1913.75,-96.09 1904.5,-90.92 1903.3,-97.81\"/>\n</g>\n<!-- 135255251165200exp -->\n<g id=\"node2\" class=\"node\">\n<title>135255251165200exp</title>\n<ellipse fill=\"none\" stroke=\"black\" cx=\"1627\" cy=\"-73.5\" rx=\"27\" ry=\"18\"/>\n<text text-anchor=\"middle\" x=\"1627\" y=\"-69.8\" font-family=\"Times,serif\" font-size=\"14.00\">exp</text>\n</g>\n<!-- 135255251165200exp&#45;&gt;135255251165200 -->\n<g id=\"edge1\" class=\"edge\">\n<title>135255251165200exp&#45;&gt;135255251165200</title>\n<path fill=\"none\" stroke=\"black\" d=\"M1654.21,-73.5C1662.34,-73.5 1671.85,-73.5 1681.94,-73.5\"/>\n<polygon fill=\"black\" stroke=\"black\" points=\"1682.19,-77 1692.19,-73.5 1682.19,-70 1682.19,-77\"/>\n</g>\n<!-- 135255251160080 -->\n<g id=\"node3\" class=\"node\">\n<title>135255251160080</title>\n<polygon fill=\"none\" stroke=\"black\" points=\"672,-111.5 672,-147.5 945,-147.5 945,-111.5 672,-111.5\"/>\n<text text-anchor=\"middle\" x=\"725\" y=\"-125.8\" font-family=\"Times,serif\" font-size=\"14.00\">x1*w1 + x2*w2</text>\n<polyline fill=\"none\" stroke=\"black\" points=\"778,-111.5 778,-147.5 \"/>\n<text text-anchor=\"middle\" x=\"820.5\" y=\"-125.8\" font-family=\"Times,serif\" font-size=\"14.00\">data &#45;6.0000</text>\n<polyline fill=\"none\" stroke=\"black\" points=\"863,-111.5 863,-147.5 \"/>\n<text text-anchor=\"middle\" x=\"904\" y=\"-125.8\" font-family=\"Times,serif\" font-size=\"14.00\">grad 0.0000</text>\n</g>\n<!-- 135255251171408+ -->\n<g id=\"node8\" class=\"node\">\n<title>135255251171408+</title>\n<ellipse fill=\"none\" stroke=\"black\" cx=\"1008\" cy=\"-101.5\" rx=\"27\" ry=\"18\"/>\n<text text-anchor=\"middle\" x=\"1008\" y=\"-97.8\" font-family=\"Times,serif\" font-size=\"14.00\">+</text>\n</g>\n<!-- 135255251160080&#45;&gt;135255251171408+ -->\n<g id=\"edge22\" class=\"edge\">\n<title>135255251160080&#45;&gt;135255251171408+</title>\n<path fill=\"none\" stroke=\"black\" d=\"M936.53,-111.49C949.09,-109.71 960.99,-108.02 971.3,-106.56\"/>\n<polygon fill=\"black\" stroke=\"black\" points=\"972.03,-109.99 981.44,-105.12 971.05,-103.06 972.03,-109.99\"/>\n</g>\n<!-- 135255251160080+ -->\n<g id=\"node4\" class=\"node\">\n<title>135255251160080+</title>\n<ellipse fill=\"none\" stroke=\"black\" cx=\"609\" cy=\"-129.5\" rx=\"27\" ry=\"18\"/>\n<text text-anchor=\"middle\" x=\"609\" y=\"-125.8\" font-family=\"Times,serif\" font-size=\"14.00\">+</text>\n</g>\n<!-- 135255251160080+&#45;&gt;135255251160080 -->\n<g id=\"edge2\" class=\"edge\">\n<title>135255251160080+&#45;&gt;135255251160080</title>\n<path fill=\"none\" stroke=\"black\" d=\"M636.23,-129.5C643.7,-129.5 652.41,-129.5 661.87,-129.5\"/>\n<polygon fill=\"black\" stroke=\"black\" points=\"661.98,-133 671.98,-129.5 661.98,-126 661.98,-133\"/>\n</g>\n<!-- 135255251166288 -->\n<g id=\"node5\" class=\"node\">\n<title>135255251166288</title>\n<polygon fill=\"none\" stroke=\"black\" points=\"1382,-55.5 1382,-91.5 1564,-91.5 1564,-55.5 1382,-55.5\"/>\n<text text-anchor=\"middle\" x=\"1392\" y=\"-69.8\" font-family=\"Times,serif\" font-size=\"14.00\"> </text>\n<polyline fill=\"none\" stroke=\"black\" points=\"1402,-55.5 1402,-91.5 \"/>\n<text text-anchor=\"middle\" x=\"1442\" y=\"-69.8\" font-family=\"Times,serif\" font-size=\"14.00\">data 1.7627</text>\n<polyline fill=\"none\" stroke=\"black\" points=\"1482,-55.5 1482,-91.5 \"/>\n<text text-anchor=\"middle\" x=\"1523\" y=\"-69.8\" font-family=\"Times,serif\" font-size=\"14.00\">grad 0.0000</text>\n</g>\n<!-- 135255251166288&#45;&gt;135255251165200exp -->\n<g id=\"edge16\" class=\"edge\">\n<title>135255251166288&#45;&gt;135255251165200exp</title>\n<path fill=\"none\" stroke=\"black\" d=\"M1564.18,-73.5C1573.14,-73.5 1581.83,-73.5 1589.73,-73.5\"/>\n<polygon fill=\"black\" stroke=\"black\" points=\"1589.96,-77 1599.96,-73.5 1589.96,-70 1589.96,-77\"/>\n</g>\n<!-- 135255251166288* -->\n<g id=\"node6\" class=\"node\">\n<title>135255251166288*</title>\n<ellipse fill=\"none\" stroke=\"black\" cx=\"1319\" cy=\"-73.5\" rx=\"27\" ry=\"18\"/>\n<text text-anchor=\"middle\" x=\"1319\" y=\"-69.8\" font-family=\"Times,serif\" font-size=\"14.00\">*</text>\n</g>\n<!-- 135255251166288*&#45;&gt;135255251166288 -->\n<g id=\"edge3\" class=\"edge\">\n<title>135255251166288*&#45;&gt;135255251166288</title>\n<path fill=\"none\" stroke=\"black\" d=\"M1346.13,-73.5C1353.67,-73.5 1362.39,-73.5 1371.64,-73.5\"/>\n<polygon fill=\"black\" stroke=\"black\" points=\"1371.87,-77 1381.87,-73.5 1371.87,-70 1371.87,-77\"/>\n</g>\n<!-- 135255251171408 -->\n<g id=\"node7\" class=\"node\">\n<title>135255251171408</title>\n<polygon fill=\"none\" stroke=\"black\" points=\"1071,-83.5 1071,-119.5 1256,-119.5 1256,-83.5 1071,-83.5\"/>\n<text text-anchor=\"middle\" x=\"1082.5\" y=\"-97.8\" font-family=\"Times,serif\" font-size=\"14.00\">n</text>\n<polyline fill=\"none\" stroke=\"black\" points=\"1094,-83.5 1094,-119.5 \"/>\n<text text-anchor=\"middle\" x=\"1134\" y=\"-97.8\" font-family=\"Times,serif\" font-size=\"14.00\">data 0.8814</text>\n<polyline fill=\"none\" stroke=\"black\" points=\"1174,-83.5 1174,-119.5 \"/>\n<text text-anchor=\"middle\" x=\"1215\" y=\"-97.8\" font-family=\"Times,serif\" font-size=\"14.00\">grad 0.0000</text>\n</g>\n<!-- 135255251171408&#45;&gt;135255251166288* -->\n<g id=\"edge17\" class=\"edge\">\n<title>135255251171408&#45;&gt;135255251166288*</title>\n<path fill=\"none\" stroke=\"black\" d=\"M1256.01,-84.81C1265.49,-83.08 1274.66,-81.41 1282.9,-79.9\"/>\n<polygon fill=\"black\" stroke=\"black\" points=\"1283.6,-83.33 1292.81,-78.09 1282.35,-76.45 1283.6,-83.33\"/>\n</g>\n<!-- 135255251171408+&#45;&gt;135255251171408 -->\n<g id=\"edge4\" class=\"edge\">\n<title>135255251171408+&#45;&gt;135255251171408</title>\n<path fill=\"none\" stroke=\"black\" d=\"M1035.04,-101.5C1042.58,-101.5 1051.3,-101.5 1060.57,-101.5\"/>\n<polygon fill=\"black\" stroke=\"black\" points=\"1060.81,-105 1070.81,-101.5 1060.81,-98 1060.81,-105\"/>\n</g>\n<!-- 135255251165776 -->\n<g id=\"node9\" class=\"node\">\n<title>135255251165776</title>\n<polygon fill=\"none\" stroke=\"black\" points=\"2.5,-194.5 2.5,-230.5 197.5,-230.5 197.5,-194.5 2.5,-194.5\"/>\n<text text-anchor=\"middle\" x=\"19\" y=\"-208.8\" font-family=\"Times,serif\" font-size=\"14.00\">w2</text>\n<polyline fill=\"none\" stroke=\"black\" points=\"35.5,-194.5 35.5,-230.5 \"/>\n<text text-anchor=\"middle\" x=\"75.5\" y=\"-208.8\" font-family=\"Times,serif\" font-size=\"14.00\">data 1.0000</text>\n<polyline fill=\"none\" stroke=\"black\" points=\"115.5,-194.5 115.5,-230.5 \"/>\n<text text-anchor=\"middle\" x=\"156.5\" y=\"-208.8\" font-family=\"Times,serif\" font-size=\"14.00\">grad 0.0000</text>\n</g>\n<!-- 135255251160784* -->\n<g id=\"node14\" class=\"node\">\n<title>135255251160784*</title>\n<ellipse fill=\"none\" stroke=\"black\" cx=\"263\" cy=\"-157.5\" rx=\"27\" ry=\"18\"/>\n<text text-anchor=\"middle\" x=\"263\" y=\"-153.8\" font-family=\"Times,serif\" font-size=\"14.00\">*</text>\n</g>\n<!-- 135255251165776&#45;&gt;135255251160784* -->\n<g id=\"edge11\" class=\"edge\">\n<title>135255251165776&#45;&gt;135255251160784*</title>\n<path fill=\"none\" stroke=\"black\" d=\"M172.53,-194.44C181.84,-191.67 191.2,-188.67 200,-185.5 210.53,-181.71 221.75,-176.9 231.72,-172.33\"/>\n<polygon fill=\"black\" stroke=\"black\" points=\"233.25,-175.48 240.82,-168.07 230.28,-169.14 233.25,-175.48\"/>\n</g>\n<!-- 135255251163216 -->\n<g id=\"node10\" class=\"node\">\n<title>135255251163216</title>\n<polygon fill=\"none\" stroke=\"black\" points=\"4,-139.5 4,-175.5 196,-175.5 196,-139.5 4,-139.5\"/>\n<text text-anchor=\"middle\" x=\"19\" y=\"-153.8\" font-family=\"Times,serif\" font-size=\"14.00\">x2</text>\n<polyline fill=\"none\" stroke=\"black\" points=\"34,-139.5 34,-175.5 \"/>\n<text text-anchor=\"middle\" x=\"74\" y=\"-153.8\" font-family=\"Times,serif\" font-size=\"14.00\">data 0.0000</text>\n<polyline fill=\"none\" stroke=\"black\" points=\"114,-139.5 114,-175.5 \"/>\n<text text-anchor=\"middle\" x=\"155\" y=\"-153.8\" font-family=\"Times,serif\" font-size=\"14.00\">grad 0.0000</text>\n</g>\n<!-- 135255251163216&#45;&gt;135255251160784* -->\n<g id=\"edge12\" class=\"edge\">\n<title>135255251163216&#45;&gt;135255251160784*</title>\n<path fill=\"none\" stroke=\"black\" d=\"M196.05,-157.5C206.52,-157.5 216.65,-157.5 225.71,-157.5\"/>\n<polygon fill=\"black\" stroke=\"black\" points=\"225.79,-161 235.79,-157.5 225.79,-154 225.79,-161\"/>\n</g>\n<!-- 135255251168912 -->\n<g id=\"node11\" class=\"node\">\n<title>135255251168912</title>\n<polygon fill=\"none\" stroke=\"black\" points=\"1072.5,-28.5 1072.5,-64.5 1254.5,-64.5 1254.5,-28.5 1072.5,-28.5\"/>\n<text text-anchor=\"middle\" x=\"1082.5\" y=\"-42.8\" font-family=\"Times,serif\" font-size=\"14.00\"> </text>\n<polyline fill=\"none\" stroke=\"black\" points=\"1092.5,-28.5 1092.5,-64.5 \"/>\n<text text-anchor=\"middle\" x=\"1132.5\" y=\"-42.8\" font-family=\"Times,serif\" font-size=\"14.00\">data 2.0000</text>\n<polyline fill=\"none\" stroke=\"black\" points=\"1172.5,-28.5 1172.5,-64.5 \"/>\n<text text-anchor=\"middle\" x=\"1213.5\" y=\"-42.8\" font-family=\"Times,serif\" font-size=\"14.00\">grad 0.0000</text>\n</g>\n<!-- 135255251168912&#45;&gt;135255251166288* -->\n<g id=\"edge19\" class=\"edge\">\n<title>135255251168912&#45;&gt;135255251166288*</title>\n<path fill=\"none\" stroke=\"black\" d=\"M1254.68,-62.36C1264.61,-64.11 1274.23,-65.8 1282.84,-67.32\"/>\n<polygon fill=\"black\" stroke=\"black\" points=\"1282.36,-70.78 1292.81,-69.07 1283.57,-63.89 1282.36,-70.78\"/>\n</g>\n<!-- 135255251159184 -->\n<g id=\"node12\" class=\"node\">\n<title>135255251159184</title>\n<polygon fill=\"none\" stroke=\"black\" points=\"0,-84.5 0,-120.5 200,-120.5 200,-84.5 0,-84.5\"/>\n<text text-anchor=\"middle\" x=\"16.5\" y=\"-98.8\" font-family=\"Times,serif\" font-size=\"14.00\">w1</text>\n<polyline fill=\"none\" stroke=\"black\" points=\"33,-84.5 33,-120.5 \"/>\n<text text-anchor=\"middle\" x=\"75.5\" y=\"-98.8\" font-family=\"Times,serif\" font-size=\"14.00\">data &#45;3.0000</text>\n<polyline fill=\"none\" stroke=\"black\" points=\"118,-84.5 118,-120.5 \"/>\n<text text-anchor=\"middle\" x=\"159\" y=\"-98.8\" font-family=\"Times,serif\" font-size=\"14.00\">grad 0.0000</text>\n</g>\n<!-- 135255251555536* -->\n<g id=\"node16\" class=\"node\">\n<title>135255251555536*</title>\n<ellipse fill=\"none\" stroke=\"black\" cx=\"263\" cy=\"-102.5\" rx=\"27\" ry=\"18\"/>\n<text text-anchor=\"middle\" x=\"263\" y=\"-98.8\" font-family=\"Times,serif\" font-size=\"14.00\">*</text>\n</g>\n<!-- 135255251159184&#45;&gt;135255251555536* -->\n<g id=\"edge18\" class=\"edge\">\n<title>135255251159184&#45;&gt;135255251555536*</title>\n<path fill=\"none\" stroke=\"black\" d=\"M200.21,-102.5C209.2,-102.5 217.86,-102.5 225.7,-102.5\"/>\n<polygon fill=\"black\" stroke=\"black\" points=\"225.85,-106 235.85,-102.5 225.85,-99 225.85,-106\"/>\n</g>\n<!-- 135255251160784 -->\n<g id=\"node13\" class=\"node\">\n<title>135255251160784</title>\n<polygon fill=\"none\" stroke=\"black\" points=\"328.5,-139.5 328.5,-175.5 543.5,-175.5 543.5,-139.5 328.5,-139.5\"/>\n<text text-anchor=\"middle\" x=\"355\" y=\"-153.8\" font-family=\"Times,serif\" font-size=\"14.00\">x2*w2</text>\n<polyline fill=\"none\" stroke=\"black\" points=\"381.5,-139.5 381.5,-175.5 \"/>\n<text text-anchor=\"middle\" x=\"421.5\" y=\"-153.8\" font-family=\"Times,serif\" font-size=\"14.00\">data 0.0000</text>\n<polyline fill=\"none\" stroke=\"black\" points=\"461.5,-139.5 461.5,-175.5 \"/>\n<text text-anchor=\"middle\" x=\"502.5\" y=\"-153.8\" font-family=\"Times,serif\" font-size=\"14.00\">grad 0.0000</text>\n</g>\n<!-- 135255251160784&#45;&gt;135255251160080+ -->\n<g id=\"edge28\" class=\"edge\">\n<title>135255251160784&#45;&gt;135255251160080+</title>\n<path fill=\"none\" stroke=\"black\" d=\"M543.84,-140.01C554.01,-138.34 563.76,-136.74 572.44,-135.32\"/>\n<polygon fill=\"black\" stroke=\"black\" points=\"573.17,-138.75 582.47,-133.68 572.04,-131.84 573.17,-138.75\"/>\n</g>\n<!-- 135255251160784*&#45;&gt;135255251160784 -->\n<g id=\"edge5\" class=\"edge\">\n<title>135255251160784*&#45;&gt;135255251160784</title>\n<path fill=\"none\" stroke=\"black\" d=\"M290.34,-157.5C298.51,-157.5 308.08,-157.5 318.36,-157.5\"/>\n<polygon fill=\"black\" stroke=\"black\" points=\"318.39,-161 328.39,-157.5 318.39,-154 318.39,-161\"/>\n</g>\n<!-- 135255251555536 -->\n<g id=\"node15\" class=\"node\">\n<title>135255251555536</title>\n<polygon fill=\"none\" stroke=\"black\" points=\"326,-84.5 326,-120.5 546,-120.5 546,-84.5 326,-84.5\"/>\n<text text-anchor=\"middle\" x=\"352.5\" y=\"-98.8\" font-family=\"Times,serif\" font-size=\"14.00\">x1*w1</text>\n<polyline fill=\"none\" stroke=\"black\" points=\"379,-84.5 379,-120.5 \"/>\n<text text-anchor=\"middle\" x=\"421.5\" y=\"-98.8\" font-family=\"Times,serif\" font-size=\"14.00\">data &#45;6.0000</text>\n<polyline fill=\"none\" stroke=\"black\" points=\"464,-84.5 464,-120.5 \"/>\n<text text-anchor=\"middle\" x=\"505\" y=\"-98.8\" font-family=\"Times,serif\" font-size=\"14.00\">grad 0.0000</text>\n</g>\n<!-- 135255251555536&#45;&gt;135255251160080+ -->\n<g id=\"edge24\" class=\"edge\">\n<title>135255251555536&#45;&gt;135255251160080+</title>\n<path fill=\"none\" stroke=\"black\" d=\"M546.27,-119.75C555.64,-121.23 564.6,-122.65 572.65,-123.92\"/>\n<polygon fill=\"black\" stroke=\"black\" points=\"572.23,-127.4 582.65,-125.5 573.32,-120.48 572.23,-127.4\"/>\n</g>\n<!-- 135255251555536*&#45;&gt;135255251555536 -->\n<g id=\"edge6\" class=\"edge\">\n<title>135255251555536*&#45;&gt;135255251555536</title>\n<path fill=\"none\" stroke=\"black\" d=\"M290.34,-102.5C297.77,-102.5 306.37,-102.5 315.6,-102.5\"/>\n<polygon fill=\"black\" stroke=\"black\" points=\"315.84,-106 325.84,-102.5 315.84,-99 315.84,-106\"/>\n</g>\n<!-- 135255251164368 -->\n<g id=\"node17\" class=\"node\">\n<title>135255251164368</title>\n<polygon fill=\"none\" stroke=\"black\" points=\"2221,-27.5 2221,-63.5 2403,-63.5 2403,-27.5 2221,-27.5\"/>\n<text text-anchor=\"middle\" x=\"2231\" y=\"-41.8\" font-family=\"Times,serif\" font-size=\"14.00\"> </text>\n<polyline fill=\"none\" stroke=\"black\" points=\"2241,-27.5 2241,-63.5 \"/>\n<text text-anchor=\"middle\" x=\"2281\" y=\"-41.8\" font-family=\"Times,serif\" font-size=\"14.00\">data 4.8284</text>\n<polyline fill=\"none\" stroke=\"black\" points=\"2321,-27.5 2321,-63.5 \"/>\n<text text-anchor=\"middle\" x=\"2362\" y=\"-41.8\" font-family=\"Times,serif\" font-size=\"14.00\">grad 0.0000</text>\n</g>\n<!-- 135255251162384* -->\n<g id=\"node20\" class=\"node\">\n<title>135255251162384*</title>\n<ellipse fill=\"none\" stroke=\"black\" cx=\"2684\" cy=\"-72.5\" rx=\"27\" ry=\"18\"/>\n<text text-anchor=\"middle\" x=\"2684\" y=\"-68.8\" font-family=\"Times,serif\" font-size=\"14.00\">*</text>\n</g>\n<!-- 135255251164368&#45;&gt;135255251162384* -->\n<g id=\"edge20\" class=\"edge\">\n<title>135255251164368&#45;&gt;135255251162384*</title>\n<path fill=\"none\" stroke=\"black\" d=\"M2403.04,-52.07C2481.41,-57.79 2590.98,-65.79 2646.96,-69.87\"/>\n<polygon fill=\"black\" stroke=\"black\" points=\"2646.87,-73.37 2657.1,-70.61 2647.38,-66.39 2646.87,-73.37\"/>\n</g>\n<!-- 135255251164368+&#45;&gt;135255251164368 -->\n<g id=\"edge7\" class=\"edge\">\n<title>135255251164368+&#45;&gt;135255251164368</title>\n<path fill=\"none\" stroke=\"black\" d=\"M1967.02,-45.5C2016.84,-45.5 2128.08,-45.5 2210.65,-45.5\"/>\n<polygon fill=\"black\" stroke=\"black\" points=\"2210.82,-49 2220.82,-45.5 2210.82,-42 2210.82,-49\"/>\n</g>\n<!-- 135255251162384 -->\n<g id=\"node19\" class=\"node\">\n<title>135255251162384</title>\n<polygon fill=\"none\" stroke=\"black\" points=\"2747,-54.5 2747,-90.5 2932,-90.5 2932,-54.5 2747,-54.5\"/>\n<text text-anchor=\"middle\" x=\"2758.5\" y=\"-68.8\" font-family=\"Times,serif\" font-size=\"14.00\">o</text>\n<polyline fill=\"none\" stroke=\"black\" points=\"2770,-54.5 2770,-90.5 \"/>\n<text text-anchor=\"middle\" x=\"2810\" y=\"-68.8\" font-family=\"Times,serif\" font-size=\"14.00\">data 0.7071</text>\n<polyline fill=\"none\" stroke=\"black\" points=\"2850,-54.5 2850,-90.5 \"/>\n<text text-anchor=\"middle\" x=\"2891\" y=\"-68.8\" font-family=\"Times,serif\" font-size=\"14.00\">grad 0.0000</text>\n</g>\n<!-- 135255251162384*&#45;&gt;135255251162384 -->\n<g id=\"edge8\" class=\"edge\">\n<title>135255251162384*&#45;&gt;135255251162384</title>\n<path fill=\"none\" stroke=\"black\" d=\"M2711.04,-72.5C2718.58,-72.5 2727.3,-72.5 2736.57,-72.5\"/>\n<polygon fill=\"black\" stroke=\"black\" points=\"2736.81,-76 2746.81,-72.5 2736.81,-69 2736.81,-76\"/>\n</g>\n<!-- 135255251161360 -->\n<g id=\"node21\" class=\"node\">\n<title>135255251161360</title>\n<polygon fill=\"none\" stroke=\"black\" points=\"2003,-82.5 2003,-118.5 2185,-118.5 2185,-82.5 2003,-82.5\"/>\n<text text-anchor=\"middle\" x=\"2013\" y=\"-96.8\" font-family=\"Times,serif\" font-size=\"14.00\"> </text>\n<polyline fill=\"none\" stroke=\"black\" points=\"2023,-82.5 2023,-118.5 \"/>\n<text text-anchor=\"middle\" x=\"2063\" y=\"-96.8\" font-family=\"Times,serif\" font-size=\"14.00\">data 6.8284</text>\n<polyline fill=\"none\" stroke=\"black\" points=\"2103,-82.5 2103,-118.5 \"/>\n<text text-anchor=\"middle\" x=\"2144\" y=\"-96.8\" font-family=\"Times,serif\" font-size=\"14.00\">grad 0.0000</text>\n</g>\n<!-- 135255251160912**&#45;1 -->\n<g id=\"node25\" class=\"node\">\n<title>135255251160912**&#45;1</title>\n<ellipse fill=\"none\" stroke=\"black\" cx=\"2312\" cy=\"-100.5\" rx=\"27\" ry=\"18\"/>\n<text text-anchor=\"middle\" x=\"2312\" y=\"-96.8\" font-family=\"Times,serif\" font-size=\"14.00\">**&#45;1</text>\n</g>\n<!-- 135255251161360&#45;&gt;135255251160912**&#45;1 -->\n<g id=\"edge21\" class=\"edge\">\n<title>135255251161360&#45;&gt;135255251160912**&#45;1</title>\n<path fill=\"none\" stroke=\"black\" d=\"M2185.04,-100.5C2216.5,-100.5 2250.05,-100.5 2274.61,-100.5\"/>\n<polygon fill=\"black\" stroke=\"black\" points=\"2274.89,-104 2284.89,-100.5 2274.89,-97 2274.89,-104\"/>\n</g>\n<!-- 135255251161360+&#45;&gt;135255251161360 -->\n<g id=\"edge9\" class=\"edge\">\n<title>135255251161360+&#45;&gt;135255251161360</title>\n<path fill=\"none\" stroke=\"black\" d=\"M1967.13,-100.5C1974.67,-100.5 1983.39,-100.5 1992.64,-100.5\"/>\n<polygon fill=\"black\" stroke=\"black\" points=\"1992.87,-104 2002.87,-100.5 1992.87,-97 1992.87,-104\"/>\n</g>\n<!-- 135255246448400 -->\n<g id=\"node23\" class=\"node\">\n<title>135255246448400</title>\n<polygon fill=\"none\" stroke=\"black\" points=\"1690,-0.5 1690,-36.5 1877,-36.5 1877,-0.5 1690,-0.5\"/>\n<text text-anchor=\"middle\" x=\"1700\" y=\"-14.8\" font-family=\"Times,serif\" font-size=\"14.00\"> </text>\n<polyline fill=\"none\" stroke=\"black\" points=\"1710,-0.5 1710,-36.5 \"/>\n<text text-anchor=\"middle\" x=\"1752.5\" y=\"-14.8\" font-family=\"Times,serif\" font-size=\"14.00\">data &#45;1.0000</text>\n<polyline fill=\"none\" stroke=\"black\" points=\"1795,-0.5 1795,-36.5 \"/>\n<text text-anchor=\"middle\" x=\"1836\" y=\"-14.8\" font-family=\"Times,serif\" font-size=\"14.00\">grad 0.0000</text>\n</g>\n<!-- 135255246448400&#45;&gt;135255251164368+ -->\n<g id=\"edge27\" class=\"edge\">\n<title>135255246448400&#45;&gt;135255251164368+</title>\n<path fill=\"none\" stroke=\"black\" d=\"M1877.05,-34.67C1886.34,-36.3 1895.33,-37.87 1903.44,-39.29\"/>\n<polygon fill=\"black\" stroke=\"black\" points=\"1903.1,-42.78 1913.55,-41.05 1904.3,-35.88 1903.1,-42.78\"/>\n</g>\n<!-- 135255251160912 -->\n<g id=\"node24\" class=\"node\">\n<title>135255251160912</title>\n<polygon fill=\"none\" stroke=\"black\" points=\"2439,-80.5 2439,-116.5 2621,-116.5 2621,-80.5 2439,-80.5\"/>\n<text text-anchor=\"middle\" x=\"2449\" y=\"-94.8\" font-family=\"Times,serif\" font-size=\"14.00\"> </text>\n<polyline fill=\"none\" stroke=\"black\" points=\"2459,-80.5 2459,-116.5 \"/>\n<text text-anchor=\"middle\" x=\"2499\" y=\"-94.8\" font-family=\"Times,serif\" font-size=\"14.00\">data 0.1464</text>\n<polyline fill=\"none\" stroke=\"black\" points=\"2539,-80.5 2539,-116.5 \"/>\n<text text-anchor=\"middle\" x=\"2580\" y=\"-94.8\" font-family=\"Times,serif\" font-size=\"14.00\">grad 0.0000</text>\n</g>\n<!-- 135255251160912&#45;&gt;135255251162384* -->\n<g id=\"edge15\" class=\"edge\">\n<title>135255251160912&#45;&gt;135255251162384*</title>\n<path fill=\"none\" stroke=\"black\" d=\"M2621.18,-83.08C2630.42,-81.49 2639.38,-79.96 2647.47,-78.58\"/>\n<polygon fill=\"black\" stroke=\"black\" points=\"2648.29,-81.99 2657.56,-76.85 2647.11,-75.09 2648.29,-81.99\"/>\n</g>\n<!-- 135255251160912**&#45;1&#45;&gt;135255251160912 -->\n<g id=\"edge10\" class=\"edge\">\n<title>135255251160912**&#45;1&#45;&gt;135255251160912</title>\n<path fill=\"none\" stroke=\"black\" d=\"M2339.05,-100.26C2361.53,-100.05 2395.48,-99.74 2428.5,-99.43\"/>\n<polygon fill=\"black\" stroke=\"black\" points=\"2428.74,-102.93 2438.7,-99.34 2428.67,-95.93 2428.74,-102.93\"/>\n</g>\n<!-- 135255251170640 -->\n<g id=\"node26\" class=\"node\">\n<title>135255251170640</title>\n<polygon fill=\"none\" stroke=\"black\" points=\"1692.5,-110.5 1692.5,-146.5 1874.5,-146.5 1874.5,-110.5 1692.5,-110.5\"/>\n<text text-anchor=\"middle\" x=\"1702.5\" y=\"-124.8\" font-family=\"Times,serif\" font-size=\"14.00\"> </text>\n<polyline fill=\"none\" stroke=\"black\" points=\"1712.5,-110.5 1712.5,-146.5 \"/>\n<text text-anchor=\"middle\" x=\"1752.5\" y=\"-124.8\" font-family=\"Times,serif\" font-size=\"14.00\">data 1.0000</text>\n<polyline fill=\"none\" stroke=\"black\" points=\"1792.5,-110.5 1792.5,-146.5 \"/>\n<text text-anchor=\"middle\" x=\"1833.5\" y=\"-124.8\" font-family=\"Times,serif\" font-size=\"14.00\">grad 0.0000</text>\n</g>\n<!-- 135255251170640&#45;&gt;135255251161360+ -->\n<g id=\"edge26\" class=\"edge\">\n<title>135255251170640&#45;&gt;135255251161360+</title>\n<path fill=\"none\" stroke=\"black\" d=\"M1874.82,-112.13C1885.07,-110.27 1895.01,-108.47 1903.88,-106.87\"/>\n<polygon fill=\"black\" stroke=\"black\" points=\"1904.54,-110.3 1913.75,-105.08 1903.29,-103.42 1904.54,-110.3\"/>\n</g>\n<!-- 135255251166608 -->\n<g id=\"node27\" class=\"node\">\n<title>135255251166608</title>\n<polygon fill=\"none\" stroke=\"black\" points=\"4,-29.5 4,-65.5 196,-65.5 196,-29.5 4,-29.5\"/>\n<text text-anchor=\"middle\" x=\"19\" y=\"-43.8\" font-family=\"Times,serif\" font-size=\"14.00\">x1</text>\n<polyline fill=\"none\" stroke=\"black\" points=\"34,-29.5 34,-65.5 \"/>\n<text text-anchor=\"middle\" x=\"74\" y=\"-43.8\" font-family=\"Times,serif\" font-size=\"14.00\">data 2.0000</text>\n<polyline fill=\"none\" stroke=\"black\" points=\"114,-29.5 114,-65.5 \"/>\n<text text-anchor=\"middle\" x=\"155\" y=\"-43.8\" font-family=\"Times,serif\" font-size=\"14.00\">grad 0.0000</text>\n</g>\n<!-- 135255251166608&#45;&gt;135255251555536* -->\n<g id=\"edge13\" class=\"edge\">\n<title>135255251166608&#45;&gt;135255251555536*</title>\n<path fill=\"none\" stroke=\"black\" d=\"M172.53,-65.56C181.84,-68.33 191.2,-71.33 200,-74.5 210.53,-78.29 221.75,-83.1 231.72,-87.67\"/>\n<polygon fill=\"black\" stroke=\"black\" points=\"230.28,-90.86 240.82,-91.93 233.25,-84.52 230.28,-90.86\"/>\n</g>\n<!-- 135255251173264 -->\n<g id=\"node28\" class=\"node\">\n<title>135255251173264</title>\n<polygon fill=\"none\" stroke=\"black\" points=\"716,-56.5 716,-92.5 901,-92.5 901,-56.5 716,-56.5\"/>\n<text text-anchor=\"middle\" x=\"727.5\" y=\"-70.8\" font-family=\"Times,serif\" font-size=\"14.00\">b</text>\n<polyline fill=\"none\" stroke=\"black\" points=\"739,-56.5 739,-92.5 \"/>\n<text text-anchor=\"middle\" x=\"779\" y=\"-70.8\" font-family=\"Times,serif\" font-size=\"14.00\">data 6.8814</text>\n<polyline fill=\"none\" stroke=\"black\" points=\"819,-56.5 819,-92.5 \"/>\n<text text-anchor=\"middle\" x=\"860\" y=\"-70.8\" font-family=\"Times,serif\" font-size=\"14.00\">grad 0.0000</text>\n</g>\n<!-- 135255251173264&#45;&gt;135255251171408+ -->\n<g id=\"edge25\" class=\"edge\">\n<title>135255251173264&#45;&gt;135255251171408+</title>\n<path fill=\"none\" stroke=\"black\" d=\"M901.02,-87.01C926,-90.43 951.59,-93.93 971.37,-96.63\"/>\n<polygon fill=\"black\" stroke=\"black\" points=\"971.05,-100.12 981.43,-98.01 972,-93.18 971.05,-100.12\"/>\n</g>\n</g>\n</svg>\n",
            "text/plain": [
              "<graphviz.graphs.Digraph at 0x7b0391332f50>"
            ]
          },
          "metadata": {},
          "execution_count": 82
        }
      ]
    },
    {
      "cell_type": "code",
      "source": [
        "import random\n",
        "\n",
        "class Neuron:\n",
        "  def __init__(self, nin) -> None:\n",
        "    self.w = [Value(random.uniform(-1, 1)) for _ in range(nin)]\n",
        "    self.b = Value(random.uniform(-1, 1))\n",
        "\n",
        "  def __call__(self, x):\n",
        "    # w * x + b\n",
        "    act = sum((wi*xi for wi, xi in zip(self.w, x)), self.b)\n",
        "    out = act.tanh()\n",
        "    return out\n",
        "\n",
        "  def parameters(self):\n",
        "    return self.w + [self.b]\n",
        "\n",
        "class Layer:\n",
        "  def __init__(self, nin, nout) -> None:\n",
        "    self.neurons = [Neuron(nin) for _ in range(nout)]\n",
        "\n",
        "  def __call__(self, x):\n",
        "    outs = [n(x) for n in self.neurons]\n",
        "    return outs[0] if len(outs) == 1 else outs\n",
        "\n",
        "  def parameters(self):\n",
        "    return [p for neuron in self.neurons for p in neuron.parameters()]\n",
        "\n",
        "class MLP:\n",
        "  def __init__(self, nin, nouts) -> None:\n",
        "    sz = [nin] + nouts\n",
        "    self.layers = [Layer(sz[i], sz[i+1]) for i in range(len(nouts))]\n",
        "\n",
        "  def __call__(self, x):\n",
        "    for layer in self.layers:\n",
        "      x = layer(x)\n",
        "    return x\n",
        "\n",
        "  def parameters(self):\n",
        "    return [p for layer in self.layers for p in layer.parameters()]\n"
      ],
      "metadata": {
        "id": "lN81okBYFP1X"
      },
      "execution_count": null,
      "outputs": []
    },
    {
      "cell_type": "code",
      "source": [
        "x = [2.0, 3.0, -1.0]\n",
        "n = MLP(3, [4, 4, 1])\n",
        "n(x)"
      ],
      "metadata": {
        "colab": {
          "base_uri": "https://localhost:8080/"
        },
        "id": "BT589fLHMNiX",
        "outputId": "7e7eb02c-57da-4b93-86dc-f703ac9eb214"
      },
      "execution_count": null,
      "outputs": [
        {
          "output_type": "execute_result",
          "data": {
            "text/plain": [
              "Value(data=0.5567914563795668)"
            ]
          },
          "metadata": {},
          "execution_count": 84
        }
      ]
    },
    {
      "cell_type": "code",
      "source": [
        "xs = [\n",
        "    [2.0, 3.0, -1.0],\n",
        "    [3.0, -1.0, 0.5],\n",
        "    [0.5, 1.0, 1.0],\n",
        "    [1.0, 1.0, -1.0],\n",
        "]\n",
        "ys = [1.0, -1.0, -1.0, 1.0] # desired targets"
      ],
      "metadata": {
        "id": "TPFHBGkeH5U4"
      },
      "execution_count": null,
      "outputs": []
    },
    {
      "cell_type": "code",
      "source": [
        "for k in range(30):\n",
        "  # forward pass\n",
        "  ypred = [n(x) for x in xs]\n",
        "\n",
        "  # mean squared error loss\n",
        "  loss = sum((yout - ygt)**2 for ygt, yout in zip(ys, ypred))\n",
        "\n",
        "  # backwards pass\n",
        "  for p in n.parameters():\n",
        "    p.grad = 0.0\n",
        "  loss.backward()\n",
        "\n",
        "  # update\n",
        "  for p in n.parameters():\n",
        "    p.data += -0.05 * p.grad\n",
        "\n",
        "  print(k, loss.data)"
      ],
      "metadata": {
        "colab": {
          "base_uri": "https://localhost:8080/"
        },
        "id": "rGZ12HD6iQJM",
        "outputId": "ac4454b9-8d8d-436e-93f2-fb85872880e5"
      },
      "execution_count": null,
      "outputs": [
        {
          "output_type": "stream",
          "name": "stdout",
          "text": [
            "0 2.985507909263279\n",
            "1 2.0328107661215373\n",
            "2 1.1826497489433285\n",
            "3 0.7076163918717385\n",
            "4 0.4573818170939615\n",
            "5 0.32053522084447167\n",
            "6 0.24024485945403462\n",
            "7 0.1893236193292673\n",
            "8 0.15481897802050493\n",
            "9 0.13017456231306707\n",
            "10 0.111825952836281\n",
            "11 0.09770465298381772\n",
            "12 0.08654135255259815\n",
            "13 0.07751967594614756\n",
            "14 0.07009336732128768\n",
            "15 0.063884453369382\n",
            "16 0.0586238030739958\n",
            "17 0.054114996979162756\n",
            "18 0.050211574755327025\n",
            "19 0.04680225692090591\n",
            "20 0.0438010807009126\n",
            "21 0.041140655033425684\n",
            "22 0.0387674481322575\n",
            "23 0.03663843106353517\n",
            "24 0.034718645315908375\n",
            "25 0.032979412123726265\n",
            "26 0.03139699530415943\n",
            "27 0.02995158968100265\n",
            "28 0.028626546650752305\n",
            "29 0.027407774774316898\n"
          ]
        }
      ]
    },
    {
      "cell_type": "code",
      "source": [
        "ypred"
      ],
      "metadata": {
        "colab": {
          "base_uri": "https://localhost:8080/"
        },
        "id": "fcwxo9cji2wZ",
        "outputId": "e94c4afd-2bf6-4afe-c141-c8425651ff03"
      },
      "execution_count": null,
      "outputs": [
        {
          "output_type": "execute_result",
          "data": {
            "text/plain": [
              "[Value(data=0.9097134235156398),\n",
              " Value(data=-0.9082720331384966),\n",
              " Value(data=-0.9406472750954528),\n",
              " Value(data=0.9144468409530616)]"
            ]
          },
          "metadata": {},
          "execution_count": 88
        }
      ]
    }
  ]
}